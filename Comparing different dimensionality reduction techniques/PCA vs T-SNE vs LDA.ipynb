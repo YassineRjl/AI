{
 "cells": [
  {
   "cell_type": "code",
   "execution_count": null,
   "metadata": {},
   "outputs": [],
   "source": [
    "#Working dimensionality redufction TO:\n",
    "#space and time efficiency\n",
    "#visualization (so we can analyze with human eyes)\n",
    "\n",
    "#I'm gonna build a PCA and compare it to T-SNE and LDA (3 DR methods total)\n",
    "\n"
   ]
  },
  {
   "cell_type": "code",
   "execution_count": 25,
   "metadata": {},
   "outputs": [],
   "source": [
    "import numpy as np #math\n",
    "np.random.seed(1) #debugging"
   ]
  },
  {
   "cell_type": "code",
   "execution_count": 26,
   "metadata": {},
   "outputs": [
    {
     "name": "stdout",
     "output_type": "stream",
     "text": [
      "[[-0.02461696  1.96710175  1.62765075  0.86334532 -1.23005814 -0.62353073\n",
      "   0.80186103 -0.10174587  0.52946532  0.61838026 -0.31011677  2.18697965\n",
      "  -0.13644474 -1.12201873  0.24879916 -0.17470316  2.19069973  0.90148689\n",
      "   0.04366899 -0.28730786]\n",
      " [-0.77516162 -1.85798186  0.3380117  -0.1809203   0.5505375   0.52057634\n",
      "   0.0465673   0.86888616  0.13770121  0.23249456 -2.43483776  0.44136444\n",
      "  -0.11905419 -0.51709446 -0.29664115  0.98633519 -1.89636092  2.52832571\n",
      "  -0.22631424  0.68006984]\n",
      " [ 1.27375593  1.23616403 -1.19926803 -0.60392063  0.79280687 -1.14434139\n",
      "  -0.18656977  0.75041164  0.07782113  0.68255141  1.0388246  -0.10015523\n",
      "   0.01740941 -0.99702683  0.49521132  0.2135339  -0.64691669 -0.24863478\n",
      "   1.33145711 -0.3198016 ]]\n"
     ]
    }
   ],
   "source": [
    "#step 1: create the data set \n",
    "\n",
    "mu_vec1 = np.array([0,0,0]) #sample mean or the center of the gaussian\n",
    "cov_mat1 = np.array([[1,0,0],[0,1,0],[0,0,1]]) #sample covariance  or standard deviation\n",
    "\n",
    "class1_sample = np.random.multivariate_normal(mu_vec1, cov_mat1, 20).T #generate a multivariate_normal, just like a gaussian\n",
    "\n",
    "print(class_sample1)\n",
    "# 3 x 20 matrix (3 columns with 20 rows)\n"
   ]
  },
  {
   "cell_type": "code",
   "execution_count": 27,
   "metadata": {},
   "outputs": [
    {
     "name": "stdout",
     "output_type": "stream",
     "text": [
      "[[-0.27255876  2.29322588  1.5627611   0.9268873   2.90465871 -0.62743834\n",
      "   1.81095167  1.82400562 -0.33195167  0.10944442  0.6735005   0.41347606\n",
      "   1.62336218  1.12910158  2.55880554  3.44936865  0.2996015   1.20183018\n",
      "   0.87953543  0.33424548]\n",
      " [ 1.31354772  0.88955297  1.24073709  2.16033857  2.1110567   1.60231928\n",
      "   2.04444209  0.43769457 -0.76068856 -0.1191154  -0.34267579 -0.23685338\n",
      "   0.56504332  2.6169496   1.1094027   0.45422583  0.79660555  1.66102029\n",
      "  -0.23312074 -0.67419581]\n",
      " [ 1.50318481  0.38263794  1.28066508  1.36949272  1.6590498   1.4202822\n",
      "   0.59912181  2.95487808 -0.65072127  2.9560789   2.11438298  1.87583893\n",
      "   2.40754     1.50274088 -0.2197444   0.80116214  1.24266944  2.79215821\n",
      "  -0.18231813  1.82502982]]\n"
     ]
    }
   ],
   "source": [
    "mu_vec2 = np.array([1,1,1]) #sample mean or the center of the gaussian\n",
    "cov_mat2 = np.array([[1,0,0],[0,1,0],[0,0,1]]) #sample covariance  or standard deviation\n",
    "\n",
    "class2_sample = np.random.multivariate_normal(mu_vec2, cov_mat2, 20).T #generate a multivariate_normal, just like a gaussian\n",
    "\n",
    "print(class_sample2)\n",
    "# 3 x 20 matrix (3 columns with 20 rows)\n"
   ]
  },
  {
   "cell_type": "code",
   "execution_count": null,
   "metadata": {},
   "outputs": [],
   "source": [
    "%pylab inline\n",
    "\n",
    "#plotting\n",
    "from matplotlib import pyplot as plt\n",
    "\n",
    "#figure, width and height\n",
    "fig = plt.figure(figsize=(8,8))\n",
    "#3d subplot\n",
    "#These are subplot grid parameters encoded as a single integer, so 1x1 grid 1st subplot\n",
    "ax = fig.add_subplot(111, projection='3d')\n",
    "#fontsize\n",
    "plt.rcParams['legend.fontsize'] = 10\n",
    "\n",
    "#plot samples\n",
    "ax.plot(class1_sample[0,:], class1_sample[1,:], class1_sample[2,:],\n",
    "        'o', markersize=8, color='blue', alpha=0.5, label='class1')\n",
    "ax.plot(class2_sample[0,:], class2_sample[1,:], class2_sample[2,:],\n",
    "        '^', markersize=8, alpha=0.5, color='green', label='class2')\n",
    "\n",
    "ax.legend(loc='upper right')\n",
    "\n",
    "plt.show()"
   ]
  },
  {
   "cell_type": "code",
   "execution_count": 40,
   "metadata": {},
   "outputs": [],
   "source": [
    "\n",
    "#step3- merge data into 1 big data set \n",
    "all_samples = np.concatenate((class1_sample, class2_sample),axis=1)"
   ]
  },
  {
   "cell_type": "code",
   "execution_count": 41,
   "metadata": {},
   "outputs": [
    {
     "data": {
      "text/plain": [
       "array([[ 1.62434536, -1.07296862,  1.74481176, -0.24937038, -0.3224172 ,\n",
       "        -1.09989127,  0.04221375,  1.14472371,  0.90085595, -0.93576943,\n",
       "        -0.69166075, -0.84520564, -1.11731035,  0.74204416, -0.74715829,\n",
       "        -0.63699565,  0.12015895, -0.35224985, -0.20889423,  0.93110208,\n",
       "         0.24560206,  0.70190716,  2.13162939, -0.39649634,  1.16003707,\n",
       "        -1.02220122,  1.23009474,  0.79924193,  1.19829972,  1.37756379,\n",
       "         2.19891788,  0.36126959,  0.65614632,  1.69803203,  1.40349164,\n",
       "         1.16938243,  0.73378149,  1.31515939,  1.35054598, -0.61577235],\n",
       "       [-0.61175641,  0.86540763, -0.7612069 ,  1.46210794, -0.38405435,\n",
       "        -0.17242821,  0.58281521,  0.90159072, -0.68372786, -0.26788808,\n",
       "        -0.39675353, -0.67124613,  0.2344157 , -0.19183555,  1.6924546 ,\n",
       "         0.19091548,  0.61720311, -1.1425182 ,  0.58662319,  0.28558733,\n",
       "         2.25286816,  1.48851815,  2.51981682, -0.44411381,  1.87616892,\n",
       "         0.69379599,  1.76201118,  1.18656139,  1.11900865,  1.12182127,\n",
       "         1.18515642,  1.42349435,  1.04359686,  0.55287144,  1.59357852,\n",
       "         1.74055645,  1.03261455,  1.84616065, -0.31228341,  2.12141771],\n",
       "       [-0.52817175, -2.3015387 ,  0.3190391 , -2.06014071,  1.13376944,\n",
       "        -0.87785842, -1.10061918,  0.50249434, -0.12289023,  0.53035547,\n",
       "        -0.6871727 , -0.0126646 ,  1.65980218, -0.88762896,  0.05080775,\n",
       "         2.10025514,  0.30017032, -0.34934272,  0.83898341,  0.88514116,\n",
       "         1.51292982,  0.92442829,  3.18557541,  0.49553414,  1.31563495,\n",
       "         1.82797464,  0.77767186,  1.41005165,  0.32933771,  2.12948391,\n",
       "         0.62471505,  1.07734007,  0.37999916,  2.2245077 , -0.09491185,\n",
       "         0.0462994 , -0.37311732,  0.14048406,  0.96130449,  1.40890054]])"
      ]
     },
     "execution_count": 41,
     "metadata": {},
     "output_type": "execute_result"
    }
   ],
   "source": [
    "all_samples"
   ]
  },
  {
   "cell_type": "code",
   "execution_count": 42,
   "metadata": {},
   "outputs": [
    {
     "data": {
      "text/plain": [
       "array([[ 1.62434536, -0.61175641, -0.52817175],\n",
       "       [-1.07296862,  0.86540763, -2.3015387 ],\n",
       "       [ 1.74481176, -0.7612069 ,  0.3190391 ],\n",
       "       [-0.24937038,  1.46210794, -2.06014071],\n",
       "       [-0.3224172 , -0.38405435,  1.13376944],\n",
       "       [-1.09989127, -0.17242821, -0.87785842],\n",
       "       [ 0.04221375,  0.58281521, -1.10061918],\n",
       "       [ 1.14472371,  0.90159072,  0.50249434],\n",
       "       [ 0.90085595, -0.68372786, -0.12289023],\n",
       "       [-0.93576943, -0.26788808,  0.53035547],\n",
       "       [-0.69166075, -0.39675353, -0.6871727 ],\n",
       "       [-0.84520564, -0.67124613, -0.0126646 ],\n",
       "       [-1.11731035,  0.2344157 ,  1.65980218],\n",
       "       [ 0.74204416, -0.19183555, -0.88762896],\n",
       "       [-0.74715829,  1.6924546 ,  0.05080775],\n",
       "       [-0.63699565,  0.19091548,  2.10025514],\n",
       "       [ 0.12015895,  0.61720311,  0.30017032],\n",
       "       [-0.35224985, -1.1425182 , -0.34934272],\n",
       "       [-0.20889423,  0.58662319,  0.83898341],\n",
       "       [ 0.93110208,  0.28558733,  0.88514116],\n",
       "       [ 0.24560206,  2.25286816,  1.51292982],\n",
       "       [ 0.70190716,  1.48851815,  0.92442829],\n",
       "       [ 2.13162939,  2.51981682,  3.18557541],\n",
       "       [-0.39649634, -0.44411381,  0.49553414],\n",
       "       [ 1.16003707,  1.87616892,  1.31563495],\n",
       "       [-1.02220122,  0.69379599,  1.82797464],\n",
       "       [ 1.23009474,  1.76201118,  0.77767186],\n",
       "       [ 0.79924193,  1.18656139,  1.41005165],\n",
       "       [ 1.19829972,  1.11900865,  0.32933771],\n",
       "       [ 1.37756379,  1.12182127,  2.12948391],\n",
       "       [ 2.19891788,  1.18515642,  0.62471505],\n",
       "       [ 0.36126959,  1.42349435,  1.07734007],\n",
       "       [ 0.65614632,  1.04359686,  0.37999916],\n",
       "       [ 1.69803203,  0.55287144,  2.2245077 ],\n",
       "       [ 1.40349164,  1.59357852, -0.09491185],\n",
       "       [ 1.16938243,  1.74055645,  0.0462994 ],\n",
       "       [ 0.73378149,  1.03261455, -0.37311732],\n",
       "       [ 1.31515939,  1.84616065,  0.14048406],\n",
       "       [ 1.35054598, -0.31228341,  0.96130449],\n",
       "       [-0.61577235,  2.12141771,  1.40890054]])"
      ]
     },
     "execution_count": 42,
     "metadata": {},
     "output_type": "execute_result"
    }
   ],
   "source": [
    "all_samples.T"
   ]
  },
  {
   "cell_type": "code",
   "execution_count": 43,
   "metadata": {},
   "outputs": [
    {
     "name": "stdout",
     "output_type": "stream",
     "text": [
      "[[0.41667492]\n",
      " [0.69848315]\n",
      " [0.49242335]]\n"
     ]
    }
   ],
   "source": [
    "#Step4 - compute the dimensional mean vector, it will help compute the covariance matrix\n",
    "#mean for each feature\n",
    "mean_x = np.mean(all_samples[0,:])\n",
    "mean_y = np.mean(all_samples[1,:])\n",
    "mean_z = np.mean(all_samples[2,:])\n",
    "#we ll get the mean by adding all of these mean valyes and divide by 3\n",
    "\n",
    "#3d mean vector\n",
    "mean_vector = np.array([[mean_x], [mean_y], [mean_z]])\n",
    "print(mean_vector)"
   ]
  },
  {
   "cell_type": "code",
   "execution_count": 47,
   "metadata": {},
   "outputs": [
    {
     "name": "stdout",
     "output_type": "stream",
     "text": [
      "Covariance Matrix:\n",
      " [[0.9868668  0.26943262 0.2855759 ]\n",
      " [0.26943262 0.92914135 0.30682016]\n",
      " [0.2855759  0.30682016 1.27528118]]\n"
     ]
    }
   ],
   "source": [
    "#step5 compute the covariance matrix now\n",
    "cov_mat = np.zeros((3,3))\n",
    "\n",
    "for i in range ((all_samples.shape[1])):\n",
    "    cov_mat = np.cov([all_samples[0,:],all_samples[1,:],all_samples[2,:]])\n",
    "print('Covariance Matrix:\\n', cov_mat)"
   ]
  },
  {
   "cell_type": "code",
   "execution_count": 48,
   "metadata": {},
   "outputs": [
    {
     "name": "stdout",
     "output_type": "stream",
     "text": [
      "values\n",
      "[1.67100943 0.83832597 0.68195393]\n",
      "direction\n",
      "[[-0.49210223 -0.64670286  0.58276136]\n",
      " [-0.47927902 -0.35756937 -0.8015209 ]\n",
      " [-0.72672348  0.67373552  0.13399043]]\n"
     ]
    }
   ],
   "source": [
    "#step6 computer eigenvectors \n",
    "\n",
    "eig_val, eig_vec = np.linalg.eig(cov_mat)\n",
    "\n",
    "print('values')\n",
    "print(eig_val)\n",
    "print('direction')\n",
    "print(eig_vec)"
   ]
  },
  {
   "cell_type": "code",
   "execution_count": 52,
   "metadata": {},
   "outputs": [
    {
     "name": "stdout",
     "output_type": "stream",
     "text": [
      "1.671009430532869\n",
      "0.8383259734158451\n",
      "0.6819539303101815\n"
     ]
    }
   ],
   "source": [
    "#step 7 sort them\n",
    "# Make a list of (eigenvalue, eigenvector) tuples\n",
    "eig_pairs = [(np.abs(eig_val[i]), eig_vec[:,i])\n",
    "             for i in range(len(eig_val))]\n",
    "\n",
    "# Sort the (eigenvalue, eigenvector) tuples from high to low\n",
    "eig_pairs.sort()\n",
    "eig_pairs.reverse()\n",
    "\n",
    "# Visually confirm that the list is correctly sorted by decreasing eigenvalues\n",
    "for i in eig_pairs:\n",
    "    print(i[0])"
   ]
  },
  {
   "cell_type": "code",
   "execution_count": 53,
   "metadata": {},
   "outputs": [
    {
     "name": "stdout",
     "output_type": "stream",
     "text": [
      "matrix W:\n",
      " [[-0.49210223 -0.64670286]\n",
      " [-0.47927902 -0.35756937]\n",
      " [-0.72672348  0.67373552]]\n"
     ]
    }
   ],
   "source": [
    "#step 8 - choose k eigvectors\n",
    "#stack arrays in sequence horizontally - hstack\n",
    "matrix_w = np.hstack((eig_pairs[0][1].reshape(3,1),\n",
    "                      eig_pairs[1][1].reshape(3,1)))\n",
    "print('matrix W:\\n', matrix_w)\n"
   ]
  },
  {
   "cell_type": "code",
   "execution_count": 54,
   "metadata": {},
   "outputs": [
    {
     "name": "stdout",
     "output_type": "stream",
     "text": [
      "[[-0.12230714  1.78582073 -0.72564846  0.91911067 -0.48120545  1.26186049\n",
      "   0.49974121 -1.36060904 -0.02630959  0.20346559  1.02990798  0.74684543\n",
      "  -0.76873682  0.37184198 -0.48040292 -1.30433953 -0.57308381  0.9748035\n",
      "  -0.78806782 -1.23832629 -2.30009539 -1.73062935 -4.57170736  0.04785487\n",
      "  -2.42616804 -1.15792646 -2.01497976 -1.98672036 -1.36534078 -2.76311357\n",
      "  -2.1041081  -1.64296088 -1.09921946 -2.71718701 -1.38545546 -1.44331476\n",
      "  -0.58485289 -1.63411201 -1.21353834 -1.73760916]\n",
      " [-1.18757151 -1.16617976 -0.64124251 -1.74952646  1.10969495  0.18151348\n",
      "  -0.97722286 -0.72412904 -0.42090149  1.05827266  0.12619324  0.77808138\n",
      "   1.75701561 -1.00931473 -0.08774954  1.75869787 -0.09616466  0.4009659\n",
      "   0.49058694 -0.10791262  0.05492635 -0.3633537  -0.13330484  0.74907576\n",
      "  -0.53466984  1.6445517  -0.90160187  0.00885182 -0.95318056  0.14270558\n",
      "  -1.4249294  -0.01678979 -0.54147105  0.20291779 -1.54140242 -1.3474191\n",
      "  -1.09515232 -1.41599875 -0.11407398  0.58889408]]\n"
     ]
    }
   ],
   "source": [
    "#step 9 transform our data using the eigenpair\n",
    "transformed = matrix_w.T.dot(all_samples)\n",
    "print( transformed )"
   ]
  },
  {
   "cell_type": "code",
   "execution_count": 55,
   "metadata": {},
   "outputs": [
    {
     "data": {
      "image/png": "[encoded data removed]",
      "text/plain": [
       "<matplotlib.figure.Figure at 0x11e12c470>"
      ]
     },
     "metadata": {},
     "output_type": "display_data"
    }
   ],
   "source": [
    "\n",
    "plt.plot(transformed[0,0:20], transformed[1,0:20],\n",
    "         'o', markersize=7, color='green', alpha=0.5, label='class1')\n",
    "plt.plot(transformed[0,20:40], transformed[1,20:40],\n",
    "         '^', markersize=7, color='red', alpha=0.5, label='class2')\n",
    "plt.xlim([-5,5])\n",
    "plt.ylim([-5,5])\n",
    "plt.xlabel('x_values')\n",
    "plt.ylabel('y_values')\n",
    "plt.legend()\n",
    "plt.title('Transformed samples with class labels')\n",
    "\n",
    "plt.show()"
   ]
  },
  {
   "cell_type": "code",
   "execution_count": null,
   "metadata": {},
   "outputs": [],
   "source": [
    "# compare PCA vs T-SNE vs LDA\n",
    "# 3 most popular DR techniques\n",
    "\n",
    "\n",
    "#PCA is label agnostic -- it treats the entire data set as a whole. \n",
    "#LDA, on the other hand, tries to explicitly model difference between classes \n",
    "#(labels) within the data. \n",
    "\n",
    "#PCA performs unsupervised transformation, while LDA is supervised. \n",
    "\n",
    "\n",
    "Best visualizations\n",
    "T-SNE\n",
    "\n",
    "Best generic dim r method \n",
    "PCA \n",
    "\n",
    "Best for supervised\n",
    "LDA\n",
    "\n",
    "\n",
    "T-SNE\n",
    "Step 1 - Compute similarity matrix between all feature vectors\n",
    "Step 2 - Compute similarity matrix from map points\n",
    "Step 3 - Use gradient descent to minimimze distance between matrices\n",
    "\n",
    "LDA (Linear Discriminant Analysis)\n",
    "\n",
    "Similar to LDA except Compute the  M mean vectors for the different classes from the dataset\n",
    "instead of #Take the whole dataset consisting of dd-dimensional samples ignoring the class labels\n",
    "Compute the dd-dimensional mean vector (i.e., the means for every dimension of the whole dataset)."
   ]
  }
 ],
 "metadata": {
  "kernelspec": {
   "display_name": "Python 3",
   "language": "python",
   "name": "python3"
  },
  "language_info": {
   "codemirror_mode": {
    "name": "ipython",
    "version": 3
   },
   "file_extension": ".py",
   "mimetype": "text/x-python",
   "name": "python",
   "nbconvert_exporter": "python",
   "pygments_lexer": "ipython3",
   "version": "3.6.4"
  }
 },
 "nbformat": 4,
 "nbformat_minor": 2
}
